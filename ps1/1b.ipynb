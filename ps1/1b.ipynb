{
 "cells": [
  {
   "cell_type": "code",
   "execution_count": 2,
   "outputs": [],
   "source": [
    "import numpy as np\n",
    "import matplotlib.pyplot as plt\n",
    "\n",
    "%matplotlib inline"
   ],
   "metadata": {
    "collapsed": false,
    "pycharm": {
     "name": "#%%\n"
    }
   }
  },
  {
   "cell_type": "code",
   "execution_count": 3,
   "outputs": [
    {
     "data": {
      "text/plain": "<matplotlib.collections.PathCollection at 0x23c162d75b0>"
     },
     "execution_count": 3,
     "metadata": {},
     "output_type": "execute_result"
    },
    {
     "data": {
      "text/plain": "<Figure size 432x288 with 1 Axes>",
      "image/png": "[encoded data removed]"
     },
     "metadata": {
      "needs_background": "light"
     },
     "output_type": "display_data"
    }
   ],
   "source": [
    "x = np.loadtxt(\"./data/logistic_x.txt\")\n",
    "y = np.loadtxt(\"./data/logistic_y.txt\")\n",
    "\n",
    "index_1 = np.where(y==1)\n",
    "index_0 = np.where(y==-1)\n",
    "\n",
    "figure = plt.figure()\n",
    "plt.scatter(x[index_1][:,0], x[index_1][:,1], c='b')\n",
    "plt.scatter(x[index_0][:,0], x[index_0][:,1], c='r')"
   ],
   "metadata": {
    "collapsed": false,
    "pycharm": {
     "name": "#%%\n"
    }
   }
  },
  {
   "cell_type": "code",
   "execution_count": 4,
   "outputs": [
    {
     "data": {
      "text/plain": "((99, 2), (99,))"
     },
     "execution_count": 4,
     "metadata": {},
     "output_type": "execute_result"
    }
   ],
   "source": [
    "x.shape, y.shape"
   ],
   "metadata": {
    "collapsed": false,
    "pycharm": {
     "name": "#%%\n"
    }
   }
  },
  {
   "cell_type": "code",
   "execution_count": 5,
   "outputs": [
    {
     "data": {
      "text/plain": "array([[ 1.        ,  1.3432504 , -1.3311479 ],\n       [ 1.        ,  1.8205529 , -0.6346681 ],\n       [ 1.        ,  0.98632067, -1.8885762 ],\n       [ 1.        ,  1.9443734 , -1.635452  ],\n       [ 1.        ,  0.97673352, -1.3533151 ],\n       [ 1.        ,  1.9458584 , -2.0443278 ],\n       [ 1.        ,  2.1075153 , -2.1256684 ],\n       [ 1.        ,  2.070373  , -2.4634101 ],\n       [ 1.        ,  0.86864964, -2.4119348 ],\n       [ 1.        ,  1.8006594 , -2.7739689 ],\n       [ 1.        ,  3.1283787 , -3.4452432 ],\n       [ 1.        ,  3.0947429 , -3.6446145 ],\n       [ 1.        ,  2.9086652 , -4.0065037 ],\n       [ 1.        ,  2.6770338 , -3.0198592 ],\n       [ 1.        ,  2.7458671 , -2.7100561 ],\n       [ 1.        ,  4.1714647 , -3.4622482 ],\n       [ 1.        ,  3.931322  , -2.1099044 ],\n       [ 1.        ,  4.378687  , -2.3804743 ],\n       [ 1.        ,  4.8016565 , -3.3803344 ],\n       [ 1.        ,  4.166105  , -2.8138844 ],\n       [ 1.        ,  2.4670141 , -1.6108444 ],\n       [ 1.        ,  3.4826743 , -1.5533872 ],\n       [ 1.        ,  3.3652482 , -1.8164936 ],\n       [ 1.        ,  2.8772788 , -1.8511689 ],\n       [ 1.        ,  3.1090444 , -1.6384946 ],\n       [ 1.        ,  2.2183701 ,  0.07427956],\n       [ 1.        ,  1.9949873 ,  0.16268659],\n       [ 1.        ,  2.9500308 ,  0.01687302],\n       [ 1.        ,  2.0216009 ,  0.17227387],\n       [ 1.        ,  2.0486921 , -0.63581041],\n       [ 1.        ,  0.87548563, -0.54586168],\n       [ 1.        ,  0.57079941, -0.03327866],\n       [ 1.        ,  1.4266468 , -0.75288337],\n       [ 1.        ,  0.72265633, -0.8669193 ],\n       [ 1.        ,  0.95346198, -1.4896956 ],\n       [ 1.        ,  4.8333333 ,  0.07017544],\n       [ 1.        ,  4.3070175 ,  1.4152047 ],\n       [ 1.        ,  6.0321637 ,  0.4502924 ],\n       [ 1.        ,  5.4181287 , -2.7076023 ],\n       [ 1.        ,  3.4590643 , -2.8245614 ],\n       [ 1.        ,  2.7280702 , -0.92397661],\n       [ 1.        ,  1.002924  ,  0.77192982],\n       [ 1.        ,  3.6637427 , -0.77777778],\n       [ 1.        ,  4.3070175 , -1.0409357 ],\n       [ 1.        ,  3.6929825 , -0.10526316],\n       [ 1.        ,  5.7397661 , -1.625731  ],\n       [ 1.        ,  4.9795322 , -1.5087719 ],\n       [ 1.        ,  6.5       , -2.9122807 ],\n       [ 1.        ,  5.2426901 ,  0.91812865],\n       [ 1.        ,  1.6754386 ,  0.56725146],\n       [ 1.        ,  5.1708997 ,  1.2103667 ],\n       [ 1.        ,  4.8795188 ,  1.6081848 ],\n       [ 1.        ,  4.664987  ,  1.0695532 ],\n       [ 1.        ,  4.4934321 ,  1.2351592 ],\n       [ 1.        ,  4.1512967 ,  0.8672126 ],\n       [ 1.        ,  3.717708  ,  1.15172   ],\n       [ 1.        ,  3.6224477 ,  1.3106769 ],\n       [ 1.        ,  3.0606943 ,  1.4857163 ],\n       [ 1.        ,  7.0718465 , -0.34961651],\n       [ 1.        ,  6.0391832 , -0.24756832],\n       [ 1.        ,  6.674748  , -0.12484766],\n       [ 1.        ,  6.8461291 ,  0.25977167],\n       [ 1.        ,  6.4270724 , -0.14713863],\n       [ 1.        ,  6.8456065 ,  1.4754967 ],\n       [ 1.        ,  7.7054006 ,  1.6045555 ],\n       [ 1.        ,  6.2870658 ,  2.4156427 ],\n       [ 1.        ,  6.9810956 ,  1.2599865 ],\n       [ 1.        ,  7.0990172 ,  2.2155151 ],\n       [ 1.        ,  5.5275479 ,  0.29968421],\n       [ 1.        ,  5.8303489 , -0.21974408],\n       [ 1.        ,  6.3594527 ,  0.23944217],\n       [ 1.        ,  6.1004524 , -0.04095741],\n       [ 1.        ,  5.6237412 ,  0.37135914],\n       [ 1.        ,  5.8836969 ,  2.7768186 ],\n       [ 1.        ,  5.5781611 ,  3.0682889 ],\n       [ 1.        ,  7.0050662 , -0.25781727],\n       [ 1.        ,  4.4538114 ,  0.83941831],\n       [ 1.        ,  5.6495924 ,  1.3053929 ],\n       [ 1.        ,  4.6337489 ,  1.9467546 ],\n       [ 1.        ,  3.6986847 ,  2.2594084 ],\n       [ 1.        ,  4.1193005 ,  2.547451  ],\n       [ 1.        ,  4.7665558 ,  2.7531209 ],\n       [ 1.        ,  3.0812098 ,  2.7985255 ],\n       [ 1.        ,  4.0730994 , -3.0292398 ],\n       [ 1.        ,  3.4883041 , -1.8888889 ],\n       [ 1.        ,  0.76900585,  1.2105263 ],\n       [ 1.        ,  1.5       ,  3.8128655 ],\n       [ 1.        ,  5.7982456 , -2.0935673 ],\n       [ 1.        ,  6.8114529 , -0.8345673 ],\n       [ 1.        ,  7.1106096 , -1.0201158 ],\n       [ 1.        ,  7.494152  , -1.7426901 ],\n       [ 1.        ,  3.1374269 ,  0.42105263],\n       [ 1.        ,  1.6754386 ,  0.50877193],\n       [ 1.        ,  2.494152  , -0.86549708],\n       [ 1.        ,  4.7748538 ,  0.09941521],\n       [ 1.        ,  5.8274854 , -0.69005848],\n       [ 1.        ,  2.2894737 ,  1.9707602 ],\n       [ 1.        ,  2.494152  ,  1.4152047 ],\n       [ 1.        ,  2.0847953 ,  1.3567251 ]])"
     },
     "execution_count": 5,
     "metadata": {},
     "output_type": "execute_result"
    }
   ],
   "source": [
    "df_x = x.copy()\n",
    "df_x = np.hstack([np.ones((x.shape[0],1)), df_x])\n",
    "df_x"
   ],
   "metadata": {
    "collapsed": false,
    "pycharm": {
     "name": "#%%\n"
    }
   }
  },
  {
   "cell_type": "code",
   "execution_count": 11,
   "outputs": [
    {
     "name": "stdout",
     "output_type": "stream",
     "text": [
      "converged after 7 times\n"
     ]
    }
   ],
   "source": [
    "all_thetas = []\n",
    "theta = np.zeros((df_x.shape[1]))\n",
    "tol = 1e9\n",
    "n_iter = 0\n",
    "while tol > 1e-6:\n",
    "# while n_iter==0:\n",
    "    zs = y * df_x.dot(theta)\n",
    "    gzs = 1 / (1 + np.exp(-zs))\n",
    "    nabla = np.mean((gzs - 1) * y * df_x.T, axis=1)\n",
    "    hessian = np.zeros((df_x.shape[1], df_x.shape[1]))\n",
    "    for i in range(hessian.shape[0]):\n",
    "        for j in range(hessian.shape[1]):\n",
    "            hessian[i][j] = np.mean(gzs * (1-gzs) * df_x[:, i] * df_x[:, j])\n",
    "\n",
    "    delta = np.linalg.inv(hessian).dot(nabla)\n",
    "    old_theta = theta.copy()\n",
    "    theta -= delta\n",
    "    all_thetas.append(theta.copy())\n",
    "    n_iter += 1\n",
    "    tol = np.sum(np.abs(theta - old_theta))\n",
    "\n",
    "print(\"converged after %d times\" % n_iter)"
   ],
   "metadata": {
    "collapsed": false,
    "pycharm": {
     "name": "#%%\n"
    }
   }
  },
  {
   "cell_type": "code",
   "execution_count": 16,
   "outputs": [
    {
     "data": {
      "text/plain": "<matplotlib.legend.Legend at 0x23c18ebfc10>"
     },
     "execution_count": 16,
     "metadata": {},
     "output_type": "execute_result"
    },
    {
     "data": {
      "text/plain": "<Figure size 432x288 with 1 Axes>",
      "image/png": "[encoded data removed]"
     },
     "metadata": {
      "needs_background": "light"
     },
     "output_type": "display_data"
    }
   ],
   "source": [
    "fig = plt.figure()\n",
    "plt.scatter(x[index_1][:,0], x[index_1][:,1], c='b')\n",
    "plt.scatter(x[index_0][:,0], x[index_0][:,1], c='r')\n",
    "\n",
    "xs = np.array([np.min(df_x[:, 1]), np.max(df_x[:, 1])])\n",
    "for index, thetas in enumerate(all_thetas):\n",
    "    ys = (thetas[0] + thetas[1] * xs) / (-thetas[2])\n",
    "    plt.plot(xs, ys, label=\"iter_{}\".format(index+1), lw=0.5)\n",
    "plt.legend(loc=\"upper left\")"
   ],
   "metadata": {
    "collapsed": false,
    "pycharm": {
     "name": "#%%\n"
    }
   }
  }
 ],
 "metadata": {
  "kernelspec": {
   "display_name": "Python 3",
   "language": "python",
   "name": "python3"
  },
  "language_info": {
   "codemirror_mode": {
    "name": "ipython",
    "version": 2
   },
   "file_extension": ".py",
   "mimetype": "text/x-python",
   "name": "python",
   "nbconvert_exporter": "python",
   "pygments_lexer": "ipython2",
   "version": "2.7.6"
  }
 },
 "nbformat": 4,
 "nbformat_minor": 0
}