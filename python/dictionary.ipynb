{
 "cells": [
  {
   "cell_type": "markdown",
   "metadata": {
    "collapsed": true,
    "pycharm": {
     "name": "#%% md\n"
    }
   },
   "source": [
    "# 字典的创建"
   ]
  },
  {
   "cell_type": "code",
   "execution_count": 7,
   "outputs": [
    {
     "name": "stdout",
     "output_type": "stream",
     "text": [
      "<class 'dict'>\n",
      "{'spam': 1, 'egg': 2, 'bar': 3}\n",
      "{'egg': 1, 'spam': 2, 'bar': 3}\n",
      "{'spam': 1, 'egg': 3, 'bar': 5}\n",
      "{'a': 1, 'b': 2, 'c': 3}\n",
      "{0: 0, 1: 2, 2: 4}\n"
     ]
    }
   ],
   "source": [
    "# 创建空字典\n",
    "dic = {}\n",
    "print(type(dic))\n",
    "\n",
    "# 赋值创建\n",
    "dic = {'spam':1, 'egg':2, 'bar':3}\n",
    "print(dic)\n",
    "\n",
    "# 通过元组的列表创建\n",
    "lst = [('egg', 1), ('spam', 2), ('bar', 3)]\n",
    "print(dict(lst))\n",
    "\n",
    "# 通过关键字dict和关键词参数创建\n",
    "dic = dict(spam = 1, egg = 3, bar = 5)\n",
    "print(dic)\n",
    "\n",
    "# 利用zip函数：\n",
    "dic = dict(zip(\"abc\", [1,2,3]))\n",
    "print(dic)\n",
    "\n",
    "# 通过字典推导式创建：\n",
    "dic = {i:2*i for i in range(3)}\n",
    "print(dic)"
   ],
   "metadata": {
    "collapsed": false,
    "pycharm": {
     "name": "#%%\n"
    }
   }
  },
  {
   "cell_type": "markdown",
   "source": [
    "# 字典内置方法"
   ],
   "metadata": {
    "collapsed": false,
    "pycharm": {
     "name": "#%% md\n"
    }
   }
  },
  {
   "cell_type": "code",
   "execution_count": 10,
   "outputs": [
    {
     "name": "stdout",
     "output_type": "stream",
     "text": [
      "len of dic: 0\n"
     ]
    }
   ],
   "source": [
    "# clear 清除字典内全部元素\n",
    "dic = {'egg':1, 'spam':2, 'bar':3}\n",
    "dic.clear()\n",
    "\n",
    "print(\"len of dic: %d\" % len(dic))"
   ],
   "metadata": {
    "collapsed": false,
    "pycharm": {
     "name": "#%%\n"
    }
   }
  },
  {
   "cell_type": "code",
   "execution_count": 16,
   "outputs": [
    {
     "name": "stdout",
     "output_type": "stream",
     "text": [
      "{'egg': 1, 'spam': [2, 5], 'bar': 3}\n",
      "{'egg': 5, 'spam': [2, 5], 'bar': 3}\n",
      "{'egg': 1, 'spam': [2, 5, 4], 'bar': 3}\n",
      "{'egg': 5, 'spam': [2, 5, 4], 'bar': 3}\n"
     ]
    }
   ],
   "source": [
    "# copy 函数，返回字典的一个浅拷贝\n",
    "# 浅拷贝对父对象，即字典的key，进行了深拷贝，不会随字典的修改而修改，而字典的value是子对象，只做浅拷贝，改变字典的value时，copy的字典的值也会改变。\n",
    "dic = {'egg':1, 'spam':[2,5], 'bar':3}\n",
    "dic1 = dic.copy()\n",
    "dic2 = dic\n",
    "\n",
    "dic['egg'] = 5\n",
    "print(dic1)\n",
    "print(dic2)\n",
    "\n",
    "dic['spam'].append(4)\n",
    "print(dic1)\n",
    "print(dic2)"
   ],
   "metadata": {
    "collapsed": false,
    "pycharm": {
     "name": "#%%\n"
    }
   }
  },
  {
   "cell_type": "code",
   "execution_count": 17,
   "outputs": [
    {
     "name": "stdout",
     "output_type": "stream",
     "text": [
      "{1: 'num', 2: 'num', 3: 'num'}\n"
     ]
    }
   ],
   "source": [
    "# fromkeys函数，创建一个新字典，以序列值为字典的key，以一个固定值作为字典的value\n",
    "dic = dict.fromkeys([1,2,3], \"num\")\n",
    "print(dic)"
   ],
   "metadata": {
    "collapsed": false,
    "pycharm": {
     "name": "#%%\n"
    }
   }
  },
  {
   "cell_type": "code",
   "execution_count": 25,
   "outputs": [
    {
     "name": "stdout",
     "output_type": "stream",
     "text": [
      "1\n",
      "0\n"
     ]
    }
   ],
   "source": [
    "# get函数，返回指定key的值，若值不在字典中返回default值，默认为None\n",
    "dic = dict(zip('abc',[1,2,3]))\n",
    "print(dic.get('a'))\n",
    "print(dic.get('d', 0))"
   ],
   "metadata": {
    "collapsed": false,
    "pycharm": {
     "name": "#%%\n"
    }
   }
  },
  {
   "cell_type": "code",
   "execution_count": 27,
   "outputs": [
    {
     "name": "stdout",
     "output_type": "stream",
     "text": [
      "True\n"
     ]
    }
   ],
   "source": [
    "# __contains__判断键是否在字典里\n",
    "print(dic.__contains__('a'))"
   ],
   "metadata": {
    "collapsed": false,
    "pycharm": {
     "name": "#%%\n"
    }
   }
  },
  {
   "cell_type": "code",
   "execution_count": 28,
   "outputs": [
    {
     "name": "stdout",
     "output_type": "stream",
     "text": [
      "dict_items([('a', 1), ('b', 2), ('c', 3)])\n"
     ]
    }
   ],
   "source": [
    "# items 返回以键和值构成的元组list\n",
    "print(dic.items())"
   ],
   "metadata": {
    "collapsed": false,
    "pycharm": {
     "name": "#%%\n"
    }
   }
  },
  {
   "cell_type": "code",
   "execution_count": 29,
   "outputs": [
    {
     "name": "stdout",
     "output_type": "stream",
     "text": [
      "dict_keys(['a', 'b', 'c'])\n"
     ]
    }
   ],
   "source": [
    "# keys 返回所有的键构成的list\n",
    "print(dic.keys())"
   ],
   "metadata": {
    "collapsed": false,
    "pycharm": {
     "name": "#%%\n"
    }
   }
  },
  {
   "cell_type": "code",
   "execution_count": 30,
   "outputs": [
    {
     "name": "stdout",
     "output_type": "stream",
     "text": [
      "dict_values([1, 2, 3])\n"
     ]
    }
   ],
   "source": [
    "# values 返回所有值构成的list\n",
    "print(dic.values())"
   ],
   "metadata": {
    "collapsed": false,
    "pycharm": {
     "name": "#%%\n"
    }
   }
  },
  {
   "cell_type": "code",
   "execution_count": 31,
   "outputs": [
    {
     "name": "stdout",
     "output_type": "stream",
     "text": [
      "1\n",
      "{'b': 2, 'c': 3}\n"
     ]
    }
   ],
   "source": [
    "# pop 返回字典中给定key所对应的值，返回值为被删除的值，key值必须被给出。\n",
    "print(dic.pop('a'))\n",
    "print(dic)"
   ],
   "metadata": {
    "collapsed": false,
    "pycharm": {
     "name": "#%%\n"
    }
   }
  }
 ],
 "metadata": {
  "kernelspec": {
   "display_name": "Python 3",
   "language": "python",
   "name": "python3"
  },
  "language_info": {
   "codemirror_mode": {
    "name": "ipython",
    "version": 2
   },
   "file_extension": ".py",
   "mimetype": "text/x-python",
   "name": "python",
   "nbconvert_exporter": "python",
   "pygments_lexer": "ipython2",
   "version": "2.7.6"
  }
 },
 "nbformat": 4,
 "nbformat_minor": 0
}