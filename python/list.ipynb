{
 "cells": [
  {
   "cell_type": "markdown",
   "source": [
    "# list\n",
    "变量存储的是一个对象的引用\n",
    "列表存储的是多个对象的引用"
   ],
   "metadata": {
    "collapsed": false,
    "pycharm": {
     "name": "#%% md\n"
    }
   }
  },
  {
   "cell_type": "code",
   "execution_count": 3,
   "outputs": [
    {
     "name": "stdout",
     "output_type": "stream",
     "text": [
      "2352788717888\n",
      "<class 'list'>\n",
      "['hello', 'world', 98]\n"
     ]
    }
   ],
   "source": [
    "lst=[\"hello\", \"world\", 98]\n",
    "print(id(lst))\n",
    "print(type(lst))\n",
    "print(lst)"
   ],
   "metadata": {
    "collapsed": false,
    "pycharm": {
     "name": "#%%\n"
    }
   }
  },
  {
   "cell_type": "markdown",
   "source": [
    "# 列表的创建和删除"
   ],
   "metadata": {
    "collapsed": false,
    "pycharm": {
     "name": "#%% md\n"
    }
   }
  },
  {
   "cell_type": "code",
   "execution_count": 12,
   "outputs": [
    {
     "name": "stdout",
     "output_type": "stream",
     "text": [
      "[]\n",
      "[1, 2, 'abc']\n",
      "[]\n",
      "['a', 'b', 'c', 'd', 'e']\n",
      "[1, 2, 3, 4, 5, 6, 7, 8, 9]\n",
      "[0, 1, 2, 3, 4, 5, 6, 7, 8, 9]\n",
      "[10, 9, 8, 7, 6, 5, 4, 3, 2]\n"
     ]
    }
   ],
   "source": [
    "a = [] # empty list\n",
    "print(a)\n",
    "b = [1,2,\"abc\"]\n",
    "print(b)\n",
    "c=list()\n",
    "print(c)\n",
    "d=list(\"abcde\") # list的对象必须是可迭代的\n",
    "print(d)\n",
    "e=list(range(1,10,1))\n",
    "print(e)\n",
    "f = list(range(10))\n",
    "print(f)\n",
    "g = list(range(10,1,-1))\n",
    "print(g)"
   ],
   "metadata": {
    "collapsed": false,
    "pycharm": {
     "name": "#%%\n"
    }
   }
  },
  {
   "cell_type": "markdown",
   "source": [
    "# 推导式生成列表"
   ],
   "metadata": {
    "collapsed": false,
    "pycharm": {
     "name": "#%% md\n"
    }
   }
  },
  {
   "cell_type": "code",
   "execution_count": 14,
   "outputs": [
    {
     "name": "stdout",
     "output_type": "stream",
     "text": [
      "[0, 2, 4, 6, 8, 10, 12, 14, 16, 18]\n",
      "[0, 4, 8, 12, 16]\n"
     ]
    }
   ],
   "source": [
    "h = [x*2 for x in range(10)]\n",
    "print(h)\n",
    "i = [x*2 for x in range(10) if x % 2 ==0 ]\n",
    "print(i)"
   ],
   "metadata": {
    "collapsed": false,
    "pycharm": {
     "name": "#%%\n"
    }
   }
  },
  {
   "cell_type": "markdown",
   "source": [
    "# 列表支持的方法"
   ],
   "metadata": {
    "collapsed": false,
    "pycharm": {
     "name": "#%% md\n"
    }
   }
  },
  {
   "cell_type": "code",
   "execution_count": 19,
   "outputs": [
    {
     "name": "stdout",
     "output_type": "stream",
     "text": [
      "['orange', 'apple', 'banana', 'melon', 'pear', 'kiwi']\n",
      "['orange', 'apple', 'banana', 'melon', 'pear', 'kiwi', 'a', 'b', 'c']\n",
      "['orange', 'apple', 'banana', 'melon', 'pear', 'kiwi', 'a', 'b', 'c', 'orange', 'apple', 'banana', 'melon', 'pear', 'kiwi', 'a', 'b', 'c']\n",
      "['orange', 'apple', 'banana', 'melon', 'pear', 'kiwi']\n"
     ]
    }
   ],
   "source": [
    "lst = [\"orange\", \"apple\", \"banana\", \"melon\", \"pear\"]\n",
    "lst.append(\"kiwi\") # append 在末尾添加元素\n",
    "print(lst)\n",
    "lst.extend(\"abc\") # extend 用可迭代对象的元素扩展列表\n",
    "print(lst)\n",
    "lst.extend(lst)\n",
    "print(lst)\n",
    "del lst[6:] # del 按索引删除list中的元素\n",
    "print(lst)\n"
   ],
   "metadata": {
    "collapsed": false,
    "pycharm": {
     "name": "#%%\n"
    }
   }
  }
 ],
 "metadata": {
  "kernelspec": {
   "display_name": "Python 3",
   "language": "python",
   "name": "python3"
  },
  "language_info": {
   "codemirror_mode": {
    "name": "ipython",
    "version": 2
   },
   "file_extension": ".py",
   "mimetype": "text/x-python",
   "name": "python",
   "nbconvert_exporter": "python",
   "pygments_lexer": "ipython2",
   "version": "2.7.6"
  }
 },
 "nbformat": 4,
 "nbformat_minor": 0
}