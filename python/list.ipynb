{
 "cells": [
  {
   "cell_type": "markdown",
   "source": [
    "# list\n",
    "变量存储的是一个对象的引用\n",
    "列表存储的是多个对象的引用"
   ],
   "metadata": {
    "collapsed": false,
    "pycharm": {
     "name": "#%% md\n"
    }
   }
  },
  {
   "cell_type": "code",
   "execution_count": 3,
   "outputs": [
    {
     "name": "stdout",
     "output_type": "stream",
     "text": [
      "2352788717888\n",
      "<class 'list'>\n",
      "['hello', 'world', 98]\n"
     ]
    }
   ],
   "source": [
    "lst=[\"hello\", \"world\", 98]\n",
    "print(id(lst))\n",
    "print(type(lst))\n",
    "print(lst)"
   ],
   "metadata": {
    "collapsed": false,
    "pycharm": {
     "name": "#%%\n"
    }
   }
  },
  {
   "cell_type": "markdown",
   "source": [
    "# 列表的创建和删除"
   ],
   "metadata": {
    "collapsed": false,
    "pycharm": {
     "name": "#%% md\n"
    }
   }
  },
  {
   "cell_type": "code",
   "execution_count": 12,
   "outputs": [
    {
     "name": "stdout",
     "output_type": "stream",
     "text": [
      "[]\n",
      "[1, 2, 'abc']\n",
      "[]\n",
      "['a', 'b', 'c', 'd', 'e']\n",
      "[1, 2, 3, 4, 5, 6, 7, 8, 9]\n",
      "[0, 1, 2, 3, 4, 5, 6, 7, 8, 9]\n",
      "[10, 9, 8, 7, 6, 5, 4, 3, 2]\n"
     ]
    }
   ],
   "source": [
    "a = [] # empty list\n",
    "print(a)\n",
    "b = [1,2,\"abc\"]\n",
    "print(b)\n",
    "c=list()\n",
    "print(c)\n",
    "d=list(\"abcde\") # list的对象必须是可迭代的\n",
    "print(d)\n",
    "e=list(range(1,10,1))\n",
    "print(e)\n",
    "f = list(range(10))\n",
    "print(f)\n",
    "g = list(range(10,1,-1))\n",
    "print(g)"
   ],
   "metadata": {
    "collapsed": false,
    "pycharm": {
     "name": "#%%\n"
    }
   }
  },
  {
   "cell_type": "markdown",
   "source": [
    "# 推导式生成列表"
   ],
   "metadata": {
    "collapsed": false,
    "pycharm": {
     "name": "#%% md\n"
    }
   }
  },
  {
   "cell_type": "code",
   "execution_count": 14,
   "outputs": [
    {
     "name": "stdout",
     "output_type": "stream",
     "text": [
      "[0, 2, 4, 6, 8, 10, 12, 14, 16, 18]\n",
      "[0, 4, 8, 12, 16]\n"
     ]
    }
   ],
   "source": [
    "h = [x*2 for x in range(10)]\n",
    "print(h)\n",
    "i = [x*2 for x in range(10) if x % 2 ==0 ]\n",
    "print(i)"
   ],
   "metadata": {
    "collapsed": false,
    "pycharm": {
     "name": "#%%\n"
    }
   }
  },
  {
   "cell_type": "markdown",
   "source": [
    "# 列表支持的方法"
   ],
   "metadata": {
    "collapsed": false,
    "pycharm": {
     "name": "#%% md\n"
    }
   }
  },
  {
   "cell_type": "code",
   "execution_count": 5,
   "outputs": [
    {
     "name": "stdout",
     "output_type": "stream",
     "text": [
      "['orange', 'apple', 'banana', 'melon', 'pear', 'kiwi']\n",
      "['orange', 'apple', 'banana', 'melon', 'pear', 'kiwi', 'a', 'b', 'c']\n",
      "['orange', 'apple', 'banana', 'melon', 'pear', 'kiwi', 'a', 'b', 'c', 'orange', 'apple', 'banana', 'melon', 'pear', 'kiwi', 'a', 'b', 'c']\n",
      "['orange', 'apple', 'banana', 'melon', 'pear', 'kiwi']\n",
      "['kiwi', 'pear', 'melon', 'banana', 'apple', 'orange']\n",
      "['apple', 'banana', 'kiwi', 'melon', 'orange', 'pear']\n",
      "['pear', 'orange', 'melon', 'kiwi', 'banana', 'apple']\n"
     ]
    }
   ],
   "source": [
    "lst = [\"orange\", \"apple\", \"banana\", \"melon\", \"pear\"]\n",
    "lst.append(\"kiwi\") # append 在末尾添加元素\n",
    "print(lst)\n",
    "lst.extend(\"abc\") # extend 用可迭代对象的元素扩展列表\n",
    "print(lst)\n",
    "lst.extend(lst)\n",
    "print(lst)\n",
    "del lst[6:] # del 按索引删除list中的元素\n",
    "print(lst)\n",
    "lst.reverse() # reverse 将所有元素反向排列 注意：函数没有返回值，不能用于赋值\n",
    "print(lst)\n",
    "lst.sort() # sort 按照字母顺序排序\n",
    "print(lst)\n",
    "lst.sort(reverse=True) # sort函数的参数：key：选择用于比较的键；reverse：bool值，可将元素按照反向顺序比较\n",
    "print(lst)"
   ],
   "metadata": {
    "collapsed": false,
    "pycharm": {
     "name": "#%%\n"
    }
   }
  },
  {
   "cell_type": "markdown",
   "source": [
    "# sort 的参数key"
   ],
   "metadata": {
    "collapsed": false,
    "pycharm": {
     "name": "#%% md\n"
    }
   }
  },
  {
   "cell_type": "code",
   "execution_count": 1,
   "outputs": [
    {
     "name": "stdout",
     "output_type": "stream",
     "text": [
      "[(2, 1), (1, 2), (1, 3), (2, 4)]\n"
     ]
    }
   ],
   "source": [
    "def takeSecond(elem):\n",
    "    return elem[1]\n",
    "random = [(1,2), (1,3), (2,4), (2,1)]\n",
    "random.sort(key=takeSecond)\n",
    "print(random)"
   ],
   "metadata": {
    "collapsed": false,
    "pycharm": {
     "name": "#%%\n"
    }
   }
  },
  {
   "cell_type": "markdown",
   "source": [
    "# 用列表实现堆栈 （pop）"
   ],
   "metadata": {
    "collapsed": false,
    "pycharm": {
     "name": "#%% md\n"
    }
   }
  },
  {
   "cell_type": "code",
   "execution_count": 3,
   "outputs": [
    {
     "name": "stdout",
     "output_type": "stream",
     "text": [
      "6 [1, 2, 3, 4, 5]\n",
      "4 [1, 2, 3, 5]\n"
     ]
    }
   ],
   "source": [
    "random = [1,2,3,4,5,6]\n",
    "elem1 = random.pop() # pop函数有返回值！\n",
    "print(elem1,random)\n",
    "elem2 = random.pop(3) # 弹出对应索引位置的元素\n",
    "print(elem2, random)"
   ],
   "metadata": {
    "collapsed": false,
    "pycharm": {
     "name": "#%%\n"
    }
   }
  },
  {
   "cell_type": "markdown",
   "source": [
    "# 列表推导式"
   ],
   "metadata": {
    "collapsed": false,
    "pycharm": {
     "name": "#%% md\n"
    }
   }
  },
  {
   "cell_type": "code",
   "execution_count": 10,
   "outputs": [
    {
     "name": "stdout",
     "output_type": "stream",
     "text": [
      "[0, 1, 4, 9, 16, 25, 36, 49, 64, 81]\n",
      "[(1, 2), (1, 3), (1, 4), (2, 3), (2, 4), (3, 2), (3, 4)]\n",
      "[-8, -4, 0, 4, 8]\n",
      "[2, 4]\n",
      "['banana', 'loganberry', 'passion fruit']\n",
      "[(0, 0), (1, 1), (2, 4), (3, 9), (4, 16)]\n",
      "[1, 2, 3, 4, 5, 6, 7, 8, 9]\n"
     ]
    }
   ],
   "source": [
    "# 创建平方值的列表：\n",
    "square = [x**2 for x in range(10)]\n",
    "print(square)\n",
    "# 方括号中可以包含多个for或if子句\n",
    "a = [(x,y) for x in [1,2,3] for y in [2,3,4] if x!=y]\n",
    "print(a)\n",
    "# 列表推导式先通过for语句列出所有元素，然后通过if语句判断其中元素是否符合condition，最后输出。\n",
    "vec = [-4 ,-2, 0 ,2, 4]\n",
    "# create a new list with the values doubled\n",
    "double_vec = [x*2 for x in vec]\n",
    "print(double_vec)\n",
    "# 除去其中的负数元素\n",
    "positive_vec = [x for x in vec if x > 0]\n",
    "print(positive_vec)\n",
    "# 对list中的元素调用函数\n",
    "freshfruit  = [\"  banana \", '      loganberry   ', ' passion fruit  ']\n",
    "strip = [weapon.strip() for weapon in freshfruit] # 对每个元素去除前后的空格\n",
    "print(strip)\n",
    "# 创建一个由两个元素的元组构成的list\n",
    "tuple_list = [(x, x**2) for x in range(5)]\n",
    "print(tuple_list)\n",
    "\n",
    "# 展开一个list 使用两个for语句\n",
    "vec = [[1,2,3], [4,5,6], [7,8,9]]\n",
    "flat_vec = [x for elem in vec for x in elem]\n",
    "print(flat_vec)"
   ],
   "metadata": {
    "collapsed": false,
    "pycharm": {
     "name": "#%%\n"
    }
   }
  },
  {
   "cell_type": "markdown",
   "source": [
    "# 列表的嵌套生成式"
   ],
   "metadata": {
    "collapsed": false,
    "pycharm": {
     "name": "#%% md\n"
    }
   }
  },
  {
   "cell_type": "code",
   "execution_count": null,
   "outputs": [],
   "source": [],
   "metadata": {
    "collapsed": false,
    "pycharm": {
     "name": "#%%\n"
    }
   }
  },
  {
   "cell_type": "markdown",
   "source": [
    "# 列表操作函数"
   ],
   "metadata": {
    "collapsed": false,
    "pycharm": {
     "name": "#%% md\n"
    }
   }
  }
 ],
 "metadata": {
  "kernelspec": {
   "display_name": "Python 3",
   "language": "python",
   "name": "python3"
  },
  "language_info": {
   "codemirror_mode": {
    "name": "ipython",
    "version": 2
   },
   "file_extension": ".py",
   "mimetype": "text/x-python",
   "name": "python",
   "nbconvert_exporter": "python",
   "pygments_lexer": "ipython2",
   "version": "2.7.6"
  }
 },
 "nbformat": 4,
 "nbformat_minor": 0
}