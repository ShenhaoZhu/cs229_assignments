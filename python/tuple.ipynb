{
 "cells": [
  {
   "cell_type": "markdown",
   "metadata": {
    "collapsed": true,
    "pycharm": {
     "name": "#%% md\n"
    }
   },
   "source": [
    "# tuple元组\n",
    "\n",
    "## 元组的创建"
   ]
  },
  {
   "cell_type": "code",
   "execution_count": 7,
   "outputs": [
    {
     "name": "stdout",
     "output_type": "stream",
     "text": [
      "('physics', 'chemistry', 1997, 2000) (1, 2, 3, 4, 5) ('a', 'b', 'c', 'd')\n",
      "('hello',)\n",
      "a b c d\n"
     ]
    }
   ],
   "source": [
    "# 元组使用小括号，在输入时，小括号可省略\n",
    "tup1 = ('physics', 'chemistry', 1997, 2000)\n",
    "tup2 = (1,2,3,4,5)\n",
    "tup3 = 'a', 'b', 'c', 'd'\n",
    "print(tup1, tup2, tup3)\n",
    "\n",
    "# 当元组只有一个元素时，需要在元素后添加逗号\n",
    "singleton = ('hello',)\n",
    "print(singleton)\n",
    "\n",
    "# 序列解包\n",
    "c1, c2, c3, c4= tup3 # 注意，变量数需和元素数量一致\n",
    "print(c1, c2, c3, c4)"
   ],
   "metadata": {
    "collapsed": false,
    "pycharm": {
     "name": "#%%\n"
    }
   }
  },
  {
   "cell_type": "markdown",
   "source": [
    "# 元组的修改\n",
    "元组中的元素值是不允许修改的，但可以对元组进行连接组合"
   ],
   "metadata": {
    "collapsed": false,
    "pycharm": {
     "name": "#%% md\n"
    }
   }
  },
  {
   "cell_type": "code",
   "execution_count": 9,
   "outputs": [
    {
     "name": "stdout",
     "output_type": "stream",
     "text": [
      "(12, 34, 'hello', 'goodbye')\n"
     ]
    }
   ],
   "source": [
    "tup1 = (12,34)\n",
    "tup2 = ('hello', 'goodbye')\n",
    "print(tup1 + tup2)"
   ],
   "metadata": {
    "collapsed": false,
    "pycharm": {
     "name": "#%%\n"
    }
   }
  },
  {
   "cell_type": "markdown",
   "source": [
    "# tuple()方法创建元组"
   ],
   "metadata": {
    "collapsed": false,
    "pycharm": {
     "name": "#%% md\n"
    }
   }
  },
  {
   "cell_type": "code",
   "execution_count": 10,
   "outputs": [
    {
     "name": "stdout",
     "output_type": "stream",
     "text": [
      "(1, 2, 3, 4)\n"
     ]
    }
   ],
   "source": [
    "# tuple()方法将可迭代序列转换为元组\n",
    "print(tuple([1,2,3,4]))"
   ],
   "metadata": {
    "collapsed": false,
    "pycharm": {
     "name": "#%%\n"
    }
   }
  }
 ],
 "metadata": {
  "kernelspec": {
   "display_name": "Python 3",
   "language": "python",
   "name": "python3"
  },
  "language_info": {
   "codemirror_mode": {
    "name": "ipython",
    "version": 2
   },
   "file_extension": ".py",
   "mimetype": "text/x-python",
   "name": "python",
   "nbconvert_exporter": "python",
   "pygments_lexer": "ipython2",
   "version": "2.7.6"
  }
 },
 "nbformat": 4,
 "nbformat_minor": 0
}